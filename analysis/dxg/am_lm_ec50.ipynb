{
 "cells": [
  {
   "cell_type": "code",
   "execution_count": 1,
   "metadata": {},
   "outputs": [],
   "source": [
    "import pandas as pd\n",
    "import numpy as np\n",
    "from pathlib import Path\n",
    "from subprocess import run"
   ]
  },
  {
   "cell_type": "code",
   "execution_count": 2,
   "metadata": {},
   "outputs": [],
   "source": [
    "## Efficacy Estimator\n",
    "## Usage: ./bin/EfficacyEstimator [OPTIONS]\n",
    "#\n",
    "## Options:\n",
    "##   -h,--help                   Print this help message and exit\n",
    "##   -i,--input TEXT             Input filename. Default: `input.yml`\n",
    "##   -f,--file                   Output to file. Default: false.\n",
    "##   -c,--console                Output to file. Default: false.\n",
    "##   -a,--art                    Drug is artemisinin / ACT. Default: false\n",
    "##   -p,--popsize INT            Number of individuals used in the simulation (default: 10,000)\n",
    "##   -d,--dosing INT ...         Drung dosing days.\n",
    "##                               Ex: `-d 2` or `--dosing 2` for monotherapy,\n",
    "##                                 `-d 5 2` or `--dosing 5 2` for a combination of two drugs.\n",
    "##   -t,--halflife FLOAT ...     Drug elimintaion half-life in date unit.\n",
    "##                               Ex: `-t 2` or `--halflife 2` for monotherapy,\n",
    "##                                 `-t 4.5 28.0` or `--halflife 4.5 28.0` for a combination of two drugs.\n",
    "##   -k,--kmax FLOAT ...         The maximum fraction of parasites that can be killed per day.\n",
    "##                               Ex: `-k 0.999` or `--kmax 0.999` for monotherapy,\n",
    "##                                 `-k 0.999 0.99` or `--kmax= 0.999 0.99` for drug combination.\n",
    "##   -m,--mda FLOAT ...          Mean drug absorption\n",
    "##   -e,--EC50 FLOAT ...         The drug concentration at which the parasite killng reach 50%.\n",
    "##                               Ex: `-e 0.75` or `--EC50 0.75` for monotherapy, \n",
    "##                                `-e 0.75 0.65` or `--EC50 0.75 0.65` for drug combination.\n",
    "##   -n,--slope FLOAT ...        the slope of the concentration-effect curve.\n",
    "##                               Ex: `-n 25` or `--slope 25` for monotherapy,\n",
    "##                                `-n 25 10` or `--slope 25 10` for drug combination."
   ]
  },
  {
   "cell_type": "code",
   "execution_count": 3,
   "metadata": {},
   "outputs": [],
   "source": [
    "# function to call EfficacyEstimator\n",
    "def Get_Efficacy(drug_1, drug_2=None, as_or_act=False, input_file=Path(Path.home(), 'Code/BoniLab-MaSim/analysis/dxg/ee_input.yml'), verbose=False):\n",
    "    # dirpath of the executable\n",
    "    exe_path = Path(Path.home(), 'Code/BoniLab-MaSim/build/bin/')\n",
    "    # prepare the command template\n",
    "    # if only 1 drug\n",
    "    if drug_2 is None:\n",
    "        cmd = './EfficacyEstimator -d {dosing_days} -t {halflife} -k {pmax} -m {mda} -e {ec50} -n {slope}'\n",
    "        if as_or_act:\n",
    "            cmd += ' -a'\n",
    "    # if 2 drugs, add the suffix _2 to the keys\n",
    "    else:\n",
    "        # iterate over items in drug_2\n",
    "        for k, v in drug_2.items():\n",
    "            # add the key and value from drug_2 to drug_1\n",
    "            drug_1[f'{k}_2'] = v\n",
    "        # add the suffix _2 to the keys\n",
    "        cmd = './EfficacyEstimator -d {dosing_days} {dosing_days_2} -t {halflife} {halflife_2} -k {pmax} {pmax_2} -m {mda} {mda_2} -e {ec50} {ec50_2} -n {slope} {slope_2}'\n",
    "        if as_or_act:\n",
    "            cmd += ' -a'\n",
    "    \n",
    "    cmd = cmd.format_map(drug_1)\n",
    "    cmd += ' -i {}'.format(input_file)\n",
    "    \n",
    "    if verbose:\n",
    "        print(cmd)\n",
    "\n",
    "    # run the command from the executable directory\n",
    "    proc = run(cmd.split(), cwd=exe_path, capture_output=True)\n",
    "    if proc.returncode == 0:\n",
    "        # get the output\n",
    "        output = proc.stdout.decode('utf-8')\n",
    "    # if unsuccessful\n",
    "    else:\n",
    "        print(cmd)\n",
    "        raise Exception('Error: ', proc.stdout.decode('utf-8'))\n",
    "\n",
    "    return float(output.split()[-1])"
   ]
  },
  {
   "cell_type": "code",
   "execution_count": 13,
   "metadata": {},
   "outputs": [],
   "source": [
    "## artemether config\n",
    "drug_1_conf = {\n",
    "    'name': 'Artemether',\n",
    "    'halflife': 0.175,\n",
    "    'ec50': 0.6,\n",
    "    'slope': 25,\n",
    "    'pmax': 0.9999,\n",
    "    'dosing_days': 3,\n",
    "    'mda': 1.0\n",
    "}\n",
    "\n",
    "## lumefantrine config\n",
    "drug_2_conf = {\n",
    "    'name': 'Lumefantrine',\n",
    "    'halflife': 4.5,\n",
    "    'ec50': 0.6,\n",
    "    'slope': 25,\n",
    "    'pmax': 0.99,\n",
    "    'dosing_days': 3,\n",
    "    'mda': 1.0\n",
    "}\n",
    "\n",
    "# wrapper function to get efficacy\n",
    "def Get_Efficacy_Wrapper(ec50_1, ec50_2=None, as_or_act=False):\n",
    "    # if AS monotherapy (as_or_act=True), use drug_1_conf\n",
    "    if as_or_act:\n",
    "        d1 = drug_1_conf.copy()\n",
    "    # else, use drug_2_conf\n",
    "    else:\n",
    "        d1 = drug_2_conf.copy()\n",
    "    d1['ec50'] = ec50_1\n",
    "    # if 2 ec50s\n",
    "    if ec50_2 is not None:\n",
    "        d2 = drug_2_conf.copy()\n",
    "        d2['ec50'] = ec50_2\n",
    "        return Get_Efficacy(d1, d2, as_or_act=as_or_act)\n",
    "    else:    \n",
    "        return Get_Efficacy(d1, as_or_act=as_or_act)"
   ]
  },
  {
   "cell_type": "code",
   "execution_count": 5,
   "metadata": {},
   "outputs": [
    {
     "data": {
      "text/plain": [
       "0.9864"
      ]
     },
     "execution_count": 5,
     "metadata": {},
     "output_type": "execute_result"
    }
   ],
   "source": [
    "Get_Efficacy(drug_1_conf, drug_2_conf)"
   ]
  },
  {
   "cell_type": "code",
   "execution_count": 7,
   "metadata": {},
   "outputs": [],
   "source": [
    "# list of ec50 val\n",
    "ec50_list = np.linspace(0.01, 1.99, 100)\n",
    "\n",
    "# get the efficacy for each pair of ec50\n",
    "# eff_list = [Get_Efficacy_Wrapper(ec50_1, ec50_2, as_or_act=True) for ec50_1 in ec50_list for ec50_2 in ec50_list]"
   ]
  },
  {
   "cell_type": "code",
   "execution_count": 8,
   "metadata": {},
   "outputs": [],
   "source": [
    "# parallelize the process\n",
    "from multiprocessing import Pool\n",
    "from itertools import product\n",
    "\n",
    "# parallelize the process, as_or_act=True\n",
    "with Pool(8) as p:\n",
    "    eff_list = p.starmap(Get_Efficacy_Wrapper, product(ec50_list, ec50_list, [True]))\n"
   ]
  },
  {
   "cell_type": "code",
   "execution_count": 10,
   "metadata": {},
   "outputs": [
    {
     "data": {
      "text/html": [
       "<div>\n",
       "<style scoped>\n",
       "    .dataframe tbody tr th:only-of-type {\n",
       "        vertical-align: middle;\n",
       "    }\n",
       "\n",
       "    .dataframe tbody tr th {\n",
       "        vertical-align: top;\n",
       "    }\n",
       "\n",
       "    .dataframe thead th {\n",
       "        text-align: right;\n",
       "    }\n",
       "</style>\n",
       "<table border=\"1\" class=\"dataframe\">\n",
       "  <thead>\n",
       "    <tr style=\"text-align: right;\">\n",
       "      <th></th>\n",
       "      <th>ec50_am</th>\n",
       "      <th>ec50_lm</th>\n",
       "      <th>efficacy</th>\n",
       "    </tr>\n",
       "  </thead>\n",
       "  <tbody>\n",
       "    <tr>\n",
       "      <th>0</th>\n",
       "      <td>0.01</td>\n",
       "      <td>0.01</td>\n",
       "      <td>1.0</td>\n",
       "    </tr>\n",
       "    <tr>\n",
       "      <th>1</th>\n",
       "      <td>0.01</td>\n",
       "      <td>0.03</td>\n",
       "      <td>1.0</td>\n",
       "    </tr>\n",
       "    <tr>\n",
       "      <th>2</th>\n",
       "      <td>0.01</td>\n",
       "      <td>0.05</td>\n",
       "      <td>1.0</td>\n",
       "    </tr>\n",
       "    <tr>\n",
       "      <th>3</th>\n",
       "      <td>0.01</td>\n",
       "      <td>0.07</td>\n",
       "      <td>1.0</td>\n",
       "    </tr>\n",
       "    <tr>\n",
       "      <th>4</th>\n",
       "      <td>0.01</td>\n",
       "      <td>0.09</td>\n",
       "      <td>1.0</td>\n",
       "    </tr>\n",
       "  </tbody>\n",
       "</table>\n",
       "</div>"
      ],
      "text/plain": [
       "   ec50_am  ec50_lm  efficacy\n",
       "0     0.01     0.01       1.0\n",
       "1     0.01     0.03       1.0\n",
       "2     0.01     0.05       1.0\n",
       "3     0.01     0.07       1.0\n",
       "4     0.01     0.09       1.0"
      ]
     },
     "execution_count": 10,
     "metadata": {},
     "output_type": "execute_result"
    }
   ],
   "source": [
    "# combine ec50_1, ec50_2, efficacy into a dataframe\n",
    "df = pd.DataFrame({'ec50_am': np.repeat(ec50_list, len(ec50_list)), 'ec50_lm': np.tile(ec50_list, len(ec50_list)), 'efficacy': eff_list})\n",
    "df.head()"
   ]
  },
  {
   "cell_type": "code",
   "execution_count": 12,
   "metadata": {},
   "outputs": [],
   "source": [
    "# save to csv\n",
    "df.to_csv('al_ec50_efficacy.csv', index=False)"
   ]
  },
  {
   "cell_type": "code",
   "execution_count": 14,
   "metadata": {},
   "outputs": [],
   "source": [
    "# parallelize the process, AS monotherapy\n",
    "with Pool(8) as p:\n",
    "    am_eff_list = p.starmap(Get_Efficacy_Wrapper, product(ec50_list, [None], [True]))"
   ]
  },
  {
   "cell_type": "code",
   "execution_count": 15,
   "metadata": {},
   "outputs": [],
   "source": [
    "# parallelize the process, LM monotherapy\n",
    "with Pool(8) as p:\n",
    "    lm_eff_list = p.starmap(Get_Efficacy_Wrapper, product(ec50_list, [None], [False]))"
   ]
  },
  {
   "cell_type": "code",
   "execution_count": 16,
   "metadata": {},
   "outputs": [
    {
     "name": "stdout",
     "output_type": "stream",
     "text": [
      "    ec50_am  efficacy\n",
      "95     1.91    0.0058\n",
      "96     1.93    0.0076\n",
      "97     1.95    0.0057\n",
      "98     1.97    0.0048\n",
      "99     1.99    0.0047\n"
     ]
    },
    {
     "data": {
      "text/html": [
       "<div>\n",
       "<style scoped>\n",
       "    .dataframe tbody tr th:only-of-type {\n",
       "        vertical-align: middle;\n",
       "    }\n",
       "\n",
       "    .dataframe tbody tr th {\n",
       "        vertical-align: top;\n",
       "    }\n",
       "\n",
       "    .dataframe thead th {\n",
       "        text-align: right;\n",
       "    }\n",
       "</style>\n",
       "<table border=\"1\" class=\"dataframe\">\n",
       "  <thead>\n",
       "    <tr style=\"text-align: right;\">\n",
       "      <th></th>\n",
       "      <th>ec50_lm</th>\n",
       "      <th>efficacy</th>\n",
       "    </tr>\n",
       "  </thead>\n",
       "  <tbody>\n",
       "    <tr>\n",
       "      <th>95</th>\n",
       "      <td>1.91</td>\n",
       "      <td>0.0105</td>\n",
       "    </tr>\n",
       "    <tr>\n",
       "      <th>96</th>\n",
       "      <td>1.93</td>\n",
       "      <td>0.0093</td>\n",
       "    </tr>\n",
       "    <tr>\n",
       "      <th>97</th>\n",
       "      <td>1.95</td>\n",
       "      <td>0.0077</td>\n",
       "    </tr>\n",
       "    <tr>\n",
       "      <th>98</th>\n",
       "      <td>1.97</td>\n",
       "      <td>0.0077</td>\n",
       "    </tr>\n",
       "    <tr>\n",
       "      <th>99</th>\n",
       "      <td>1.99</td>\n",
       "      <td>0.0054</td>\n",
       "    </tr>\n",
       "  </tbody>\n",
       "</table>\n",
       "</div>"
      ],
      "text/plain": [
       "    ec50_lm  efficacy\n",
       "95     1.91    0.0105\n",
       "96     1.93    0.0093\n",
       "97     1.95    0.0077\n",
       "98     1.97    0.0077\n",
       "99     1.99    0.0054"
      ]
     },
     "execution_count": 16,
     "metadata": {},
     "output_type": "execute_result"
    }
   ],
   "source": [
    "# combine ec50 and efficacy of monotherapies into a dataframe\n",
    "df_am = pd.DataFrame({'ec50_am': ec50_list, 'efficacy': am_eff_list})\n",
    "df_am.to_csv('am_ec50_efficacy.csv', index=False)\n",
    "\n",
    "df_lm = pd.DataFrame({'ec50_lm': ec50_list, 'efficacy': lm_eff_list})\n",
    "df_lm.to_csv('lm_ec50_efficacy.csv', index=False)\n",
    "\n",
    "print(df_am.tail())\n",
    "df_lm.tail()"
   ]
  }
 ],
 "metadata": {
  "kernelspec": {
   "display_name": "masim",
   "language": "python",
   "name": "python3"
  },
  "language_info": {
   "codemirror_mode": {
    "name": "ipython",
    "version": 3
   },
   "file_extension": ".py",
   "mimetype": "text/x-python",
   "name": "python",
   "nbconvert_exporter": "python",
   "pygments_lexer": "ipython3",
   "version": "3.9.13 (main, Aug 25 2022, 23:26:10) \n[GCC 11.2.0]"
  },
  "orig_nbformat": 4,
  "vscode": {
   "interpreter": {
    "hash": "0392cab20371636fedd26384fac058eb8cb219f5bc3d0aaf6cb210baacffac4c"
   }
  }
 },
 "nbformat": 4,
 "nbformat_minor": 2
}
